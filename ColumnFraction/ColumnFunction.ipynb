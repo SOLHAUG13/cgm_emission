{
 "cells": [
  {
   "cell_type": "markdown",
   "metadata": {},
   "source": [
    "# Column Fraction Function"
   ]
  },
  {
   "cell_type": "markdown",
   "metadata": {},
   "source": [
    "- Using **scipy.interpolate.RectBivariateSpline** to interpolate function:\n",
    "- Linear interpolation (kx=1, ky=1)"
   ]
  },
  {
   "cell_type": "code",
   "execution_count": null,
   "metadata": {},
   "outputs": [],
   "source": [
    "import numpy as np\n",
    "import pandas as pd\n",
    "import sympy as s\n",
    "import math\n",
    "import glob\n",
    "\n",
    "import matplotlib\n",
    "import matplotlib.pyplot as plt\n",
    "from cycler import cycler\n",
    "\n",
    "from scipy import interpolate\n",
    "\n",
    "from astropy import units as u\n",
    "from astropy import constants as const\n",
    "from astropy.units import imperial\n",
    "imperial.enable()\n",
    "\n",
    "%matplotlib inline\n",
    "import os\n",
    "#home_dir = os.environ['/Users/eriksolhaug'] + '/'\n",
    "import pyCloudy as pc"
   ]
  },
  {
   "cell_type": "code",
   "execution_count": null,
   "metadata": {},
   "outputs": [],
   "source": [
    "pd.set_option(\"display.max_rows\", None, \"display.max_columns\", None)\n",
    "pd.set_option('precision', 16)\n",
    "pd.set_option('display.float_format', lambda x: '%.3e' % x)"
   ]
  },
  {
   "cell_type": "code",
   "execution_count": null,
   "metadata": {},
   "outputs": [],
   "source": [
    "# The directory in which we will have the model\n",
    "# You may want to change this to a different place so that the current directory\n",
    "# will not receive all the Cloudy files.\n",
    "dir_ = '/Users/eriksolhaug/cloudy/c17.02/cloudoutputs/'\n",
    "\n",
    "user_dir = '/Users/eriksolhaug/cloudy/c17.02/'\n",
    "\n",
    "# Define verbosity to high level (will print errors, warnings and messages)\n",
    "pc.log_.level = 3"
   ]
  },
  {
   "cell_type": "code",
   "execution_count": null,
   "metadata": {},
   "outputs": [],
   "source": [
    "def calccolfrac(element, ion_number, model_name, model_dir):\n",
    "    \"\"\"\n",
    "    Returns FUNCTION object f(X, Y) where X is a hydrogen density (LOG) and Y is a temperature (LOG). The output fraction is in LOG.\n",
    "    \n",
    "    The temperature range given to the Cloudy input file is 10^4 - 10^7 K\n",
    "    and the hydrogen density range given to the Cloudy input file is 10^-5.0 - 10^-3.0 cm^-3\n",
    "\n",
    "    Inputs:\n",
    "    element - a string, element pertaining to the ion to be analyzed\n",
    "    ion_number - an integer, denoting the ionization state of the ion (e.g. a request for CIV would need ion_number=4)\n",
    "    model_name - a string, name of model run in CLOUDY (f.ex. 'model_41')\n",
    "    model_dir - a string, directory containing model output files\n",
    "    \n",
    "    Output:\n",
    "    f - an object, function yielding fractional column for the requested ionic species as a fraction in LOG of its column relative\n",
    "    to all other available ions for the requested element as a function of temperature and hydrogen density\n",
    "    To get the column fraction for a certain hden X and temperature Y, simply call f(X, Y) and take the exponent 10**f(X, Y) of this to find \n",
    "    the column fraction of the ion species relative to all ions of that element.\n",
    "    \n",
    "    An example: \n",
    "                In[]:\n",
    "                f = calccolfrac('O', 6, 'model_47', '/Users/eriksolhaug/cloudy/c17.02/cloudoutputs/')\n",
    "                10**f(-5.0, 5.5)\n",
    "                Out[]:\n",
    "                array([[0.05054196]]) -- where 0.05054196 is the column fraction of OVI for hydrogen density of 10**-5.0 and a temperature of 10**5.5 Kelvin\n",
    "    \"\"\"\n",
    "    \n",
    "    # Interpolating function for the data computed in Cloudy\n",
    "    grid_df = pd.read_csv(f'{model_dir}/{model_name}.grid', sep='\\t')\n",
    "    hdengrid = grid_df.loc[:, 'HDEN=%f L']\n",
    "    tempgrid = grid_df.loc[:, 'CONSTANT ']\n",
    "    x = hdengrid\n",
    "    y = tempgrid\n",
    "    \n",
    "    # Loading .ele_ files\n",
    "    col_df = pd.read_csv(f'{model_dir}{model_name}.ele_{element}', sep = '\\t')\n",
    "    \n",
    "    # Getting fractional columns\n",
    "    z_array = []\n",
    "    for index in range(0, x.size):\n",
    "        frac_col = col_df.iloc[index*2].iloc[ion_number]\n",
    "        z_array.append(np.log10(frac_col+1e-20))  #Adding a small value to avoide case of log(0)\n",
    "    z = pd.DataFrame(z_array, columns=['z'])\n",
    "    \n",
    "    if model_name == 'model_43':\n",
    "        step = 5\n",
    "    elif model_name == 'model_45':\n",
    "        step = 41\n",
    "    elif model_name == 'model_46':\n",
    "        step = 401\n",
    "    elif model_name == 'model_47':\n",
    "        step = 101\n",
    "    else:\n",
    "        step = 11\n",
    "    \n",
    "    # Putting vectors in dataframe representation\n",
    "    xyz = pd.DataFrame({'x' : x, 'y' : y, 'z' : z['z']})\n",
    "    \n",
    "    # Simplifying x and y inputs\n",
    "    xi = xyz['x'][:step]\n",
    "    yi = xyz['y'][::step]\n",
    "    \n",
    "    # Preparing spline arrays\n",
    "    twoDarray = []\n",
    "    for i in range(len(xi)):\n",
    "        array = []\n",
    "        for j in range(len(yi)):\n",
    "            idx = i + j*step\n",
    "            array.append(xyz['z'][idx])\n",
    "        twoDarray.append(array)\n",
    "    \n",
    "    # Simplifying z inputs\n",
    "    zi = twoDarray\n",
    "    \n",
    "    print(xi, yi, zi)\n",
    "    print(len(xi), len(yi), len(zi))\n",
    "    \n",
    "    # INTERPOLATION\n",
    "    f = interpolate.RectBivariateSpline(xi, yi, zi, kx=1, ky=1) # Linear determined by kx, ky\n",
    "    \n",
    "    # Displaying match between old fractions and interpolated function\n",
    "    interpolated_z = []\n",
    "    for temp in yi:\n",
    "        for hden in xi:\n",
    "            interpolated_z.append(f(hden, temp))\n",
    "    interpolated_z = np.concatenate(interpolated_z)\n",
    "    \n",
    "    print(interpolated_z)\n",
    "    \n",
    "    return f"
   ]
  },
  {
   "cell_type": "code",
   "execution_count": null,
   "metadata": {},
   "outputs": [],
   "source": [
    "def colplot(keyword, second_val, element, ion_numbers, model_name, model_dir, plot_dir):\n",
    "    '''\n",
    "    Function used to make and save plots of the fractional columns for different elements\n",
    "    \n",
    "    Input:\n",
    "    keyword - a string, either 'temp' or 'hden' for what needs to be plotted against\n",
    "    second_val - a float in LOG, value for either temp or hden (whatever not requested by keyword) - the plot needs a set temp or hden and this is set by this parameter\n",
    "    element - a string, chemical symbol for the requested element (f.ex. 'C')\n",
    "    ion_numbers - an list, denoting the ionization states of the ions in the list (e.g. a request for CIV would need ion_number=4)\n",
    "    model_name - a string, name of model run in CLOUDY (f.ex. 'model_42')\n",
    "    model_dir - a string, directory containing model output files\n",
    "    plot_dir - a string, directory for where to save plot\n",
    "    '''\n",
    "    \n",
    "    # Defining Roman Numerals\n",
    "    def int_to_Roman(num):\n",
    "        val = [\n",
    "            1000, 900, 500, 400,\n",
    "            100, 90, 50, 40,\n",
    "            10, 9, 5, 4,\n",
    "            1\n",
    "            ]\n",
    "        syb = [\n",
    "            \"M\", \"CM\", \"D\", \"CD\",\n",
    "            \"C\", \"XC\", \"L\", \"XL\",\n",
    "            \"X\", \"IX\", \"V\", \"IV\",\n",
    "            \"I\"\n",
    "            ]\n",
    "        roman_num = ''\n",
    "        i = 0\n",
    "        while  num > 0:\n",
    "            for _ in range(num // val[i]):\n",
    "                roman_num += syb[i]\n",
    "                num -= val[i]\n",
    "            i += 1\n",
    "        return roman_num\n",
    "    \n",
    "    \n",
    "    # Plotting\n",
    "    tick_fontsize = 16\n",
    "    axis_fontsize = 22\n",
    "    lwidth = 3\n",
    "    lstyle = '-'\n",
    "    \n",
    "    fig, ax = plt.subplots(1, 1)\n",
    "    fig.set_size_inches(8, 5)\n",
    "    fig.tight_layout(w_pad = 10.0)\n",
    "\n",
    "    if keyword == 'temp':\n",
    "        constant = second_val\n",
    "        vary = np.arange(4, 7, 0.01)\n",
    "        xaxis = 10**vary\n",
    "    elif keyword == 'hden':\n",
    "        vary = np.arange(-5.0, -3.0, 0.01)\n",
    "        constant = second_val\n",
    "        xaxis = 10**vary\n",
    "    else:\n",
    "        print('Not a valid keyword. Needs either \"temp\" or \"hden\".')\n",
    "    \n",
    "    tot = np.zeros(len(vary))\n",
    "    for ion_number in ion_numbers:\n",
    "        f = calccolfrac(element, ion_number, model_name, model_dir)\n",
    "        ion_name = element+int_to_Roman(ion_number)\n",
    "        if keyword == 'temp':\n",
    "            other_keyword = 'hden'\n",
    "            ax.plot(xaxis, 10**f(constant, vary)[0], linewidth=lwidth, label=f'{ion_name}', linestyle=lstyle)\n",
    "            for i in range(0, len(tot)):\n",
    "                tot[i] += 10**f(constant, vary[i])[0]\n",
    "        elif keyword == 'hden':\n",
    "            other_keyword = 'temp'\n",
    "            ax.plot(xaxis, 10**f(vary, constant), linewidth=lwidth, label=f'{ion_name}', linestyle=lstyle)\n",
    "            for i in range(0, len(tot)):\n",
    "                tot[i] += 10**f(vary[i], constant)\n",
    "    print(f'Tot: {tot}')\n",
    "    ax.plot(xaxis, tot, c='k', linewidth=lwidth, linestyle=':', label = 'tot')\n",
    "    ax.set_xscale('log')\n",
    "    ax.set_yscale('log')\n",
    "    if keyword == 'temp':\n",
    "        ax.set_xlabel(r'Temperature ($K$)', fontsize = 12)\n",
    "    else:\n",
    "        ax.set_xlabel(r'Hydrogen density ($cm^{-3}$)', fontsize = 12)\n",
    "    ax.set_ylabel('Column Fraction', fontsize = 12)\n",
    "    ax.set_ylim(1e-6, 5e0)\n",
    "    ax.set_title(f'Fractional Columns for {element} | Constant {other_keyword}: 10^{second_val}', fontsize=18, fontweight='bold', pad=15)\n",
    "    for tick in ax.xaxis.get_major_ticks():\n",
    "        tick.label.set_fontsize(fontsize=tick_fontsize)\n",
    "    for tick in ax.yaxis.get_major_ticks():\n",
    "        tick.label.set_fontsize(fontsize=tick_fontsize)\n",
    "    ax.xaxis.label.set_fontsize(axis_fontsize)\n",
    "    ax.yaxis.label.set_fontsize(axis_fontsize)\n",
    "    ax.tick_params(which='major', width=2, length=8)\n",
    "    ax.tick_params(which='minor', width=1, length=5)\n",
    "    ax.grid(linestyle='--')\n",
    "    ax.legend(bbox_to_anchor=(1.05, 1), loc='upper left', prop={'size': 18})\n",
    "    ax.set_prop_cycle(cycler('color', ['c', 'm', 'y', 'k']))\n",
    "    \n",
    "    fig.savefig(f'{plot_dir}/{element}_{keyword}vary_{second_val}_columnfractions.pdf', bbox_inches=\"tight\")"
   ]
  },
  {
   "cell_type": "markdown",
   "metadata": {},
   "source": [
    "### Example Executions:"
   ]
  },
  {
   "cell_type": "code",
   "execution_count": null,
   "metadata": {
    "scrolled": true
   },
   "outputs": [],
   "source": [
    "element = 'O'\n",
    "ion_number = 6\n",
    "model_name = 'model_47'\n",
    "model_dir = '/Users/eriksolhaug/cloudy/c17.02/cloudoutputs/'\n",
    "f = calccolfrac(element, ion_number, model_name, model_dir)"
   ]
  },
  {
   "cell_type": "code",
   "execution_count": null,
   "metadata": {},
   "outputs": [],
   "source": [
    "10**f(-5.0,5.5)"
   ]
  },
  {
   "cell_type": "markdown",
   "metadata": {},
   "source": [
    "$\\: \\uparrow$ This is the fractional column of the input ion relative to all other ions for that element."
   ]
  },
  {
   "cell_type": "markdown",
   "metadata": {},
   "source": [
    "One can use the same procedure for other ions:"
   ]
  },
  {
   "cell_type": "code",
   "execution_count": null,
   "metadata": {
    "scrolled": true
   },
   "outputs": [],
   "source": [
    "element = 'C'\n",
    "ion_number = 4\n",
    "model_name = 'model_47'\n",
    "model_dir = '/Users/eriksolhaug/cloudy/c17.02/cloudoutputs/'\n",
    "f = calccolfrac(element, ion_number, model_name, model_dir)"
   ]
  },
  {
   "cell_type": "markdown",
   "metadata": {},
   "source": [
    "### Plotting fractional columns for all ions (C, N, O, Si)"
   ]
  },
  {
   "cell_type": "code",
   "execution_count": null,
   "metadata": {
    "scrolled": true
   },
   "outputs": [],
   "source": [
    "model_name = 'model_47'\n",
    "plot_dir = '/Users/eriksolhaug/cloudy/c17.02/es/es_data/column_fractions/' + model_name + '/'\n",
    "element_array = ['C', 'N', 'O', 'Si']\n",
    "keyword_array = ['temp', 'hden']\n",
    "temp_val_array = np.arange(-5.0, -2.5, 0.5)\n",
    "hden_val_array = np.arange(4.0, 6.5, 0.5)\n",
    "for element in element_array:\n",
    "    if element == 'C':\n",
    "        ion_numbers = np.arange(1, 6+1+1)\n",
    "    elif element == 'N':\n",
    "        ion_numbers = np.arange(1, 7+1+1)\n",
    "    elif element == 'O':\n",
    "        ion_numbers = np.arange(1, 8+1+1)\n",
    "    elif element == 'Si':\n",
    "        ion_numbers = np.arange(1, 14+1+1)\n",
    "    for keyword in keyword_array:\n",
    "        if keyword == 'temp':\n",
    "            second_val_array = temp_val_array\n",
    "        elif keyword == 'hden':\n",
    "            second_val_array = hden_val_array\n",
    "        for second_val in second_val_array:\n",
    "            plot = colplot(keyword, second_val, element, ion_numbers, model_name, model_dir, plot_dir)"
   ]
  },
  {
   "cell_type": "code",
   "execution_count": null,
   "metadata": {},
   "outputs": [],
   "source": []
  }
 ],
 "metadata": {
  "kernelspec": {
   "display_name": "Python 3",
   "language": "python",
   "name": "python3"
  },
  "language_info": {
   "codemirror_mode": {
    "name": "ipython",
    "version": 3
   },
   "file_extension": ".py",
   "mimetype": "text/x-python",
   "name": "python",
   "nbconvert_exporter": "python",
   "pygments_lexer": "ipython3",
   "version": "3.8.5"
  }
 },
 "nbformat": 4,
 "nbformat_minor": 4
}
